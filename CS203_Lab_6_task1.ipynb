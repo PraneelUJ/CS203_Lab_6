{
  "nbformat": 4,
  "nbformat_minor": 0,
  "metadata": {
    "colab": {
      "provenance": [],
      "authorship_tag": "ABX9TyMoTkkNKXtpUYAvGpH669aQ",
      "include_colab_link": true
    },
    "kernelspec": {
      "name": "python3",
      "display_name": "Python 3"
    },
    "language_info": {
      "name": "python"
    }
  },
  "cells": [
    {
      "cell_type": "markdown",
      "metadata": {
        "id": "view-in-github",
        "colab_type": "text"
      },
      "source": [
        "<a href=\"https://colab.research.google.com/github/PraneelUJ/CS203_Lab_6/blob/main/CS203_Lab_6_task1.ipynb\" target=\"_parent\"><img src=\"https://colab.research.google.com/assets/colab-badge.svg\" alt=\"Open In Colab\"/></a>"
      ]
    },
    {
      "cell_type": "markdown",
      "source": [
        "### Task1: Implement a Multi-Layer Perceptron (MLP) Using the Iris Dataset\n",
        "- Load the Iris dataset using sklearn.datasets.load_iris.\n",
        "- Extract features and labels, ensuring labels are one-hot encoded.\n",
        "- Split the dataset into training (80%) and testing (20%) sets.\n",
        "- Normalize feature values to [0,1] using standard scaling.\n"
      ],
      "metadata": {
        "id": "KDqKNMCXzOAx"
      }
    },
    {
      "cell_type": "code",
      "execution_count": 18,
      "metadata": {
        "id": "ovi2lDSZrdvg"
      },
      "outputs": [],
      "source": [
        "from sklearn.datasets import load_iris\n",
        "from sklearn.model_selection import train_test_split\n",
        "from sklearn.preprocessing import OneHotEncoder, StandardScaler\n",
        "import numpy as np\n",
        "import matplotlib.pyplot as plt"
      ]
    },
    {
      "cell_type": "code",
      "source": [
        "iris = load_iris(as_frame=True)"
      ],
      "metadata": {
        "id": "RElmknYBtoBR"
      },
      "execution_count": 2,
      "outputs": []
    },
    {
      "cell_type": "code",
      "source": [
        "iris"
      ],
      "metadata": {
        "collapsed": true,
        "colab": {
          "base_uri": "https://localhost:8080/"
        },
        "id": "YDrgufw-uv4g",
        "outputId": "36f2747b-fa45-4b0b-b12d-1f0017013f4c"
      },
      "execution_count": 3,
      "outputs": [
        {
          "output_type": "execute_result",
          "data": {
            "text/plain": [
              "{'data':      sepal length (cm)  sepal width (cm)  petal length (cm)  petal width (cm)\n",
              " 0                  5.1               3.5                1.4               0.2\n",
              " 1                  4.9               3.0                1.4               0.2\n",
              " 2                  4.7               3.2                1.3               0.2\n",
              " 3                  4.6               3.1                1.5               0.2\n",
              " 4                  5.0               3.6                1.4               0.2\n",
              " ..                 ...               ...                ...               ...\n",
              " 145                6.7               3.0                5.2               2.3\n",
              " 146                6.3               2.5                5.0               1.9\n",
              " 147                6.5               3.0                5.2               2.0\n",
              " 148                6.2               3.4                5.4               2.3\n",
              " 149                5.9               3.0                5.1               1.8\n",
              " \n",
              " [150 rows x 4 columns],\n",
              " 'target': 0      0\n",
              " 1      0\n",
              " 2      0\n",
              " 3      0\n",
              " 4      0\n",
              "       ..\n",
              " 145    2\n",
              " 146    2\n",
              " 147    2\n",
              " 148    2\n",
              " 149    2\n",
              " Name: target, Length: 150, dtype: int64,\n",
              " 'frame':      sepal length (cm)  sepal width (cm)  petal length (cm)  petal width (cm)  \\\n",
              " 0                  5.1               3.5                1.4               0.2   \n",
              " 1                  4.9               3.0                1.4               0.2   \n",
              " 2                  4.7               3.2                1.3               0.2   \n",
              " 3                  4.6               3.1                1.5               0.2   \n",
              " 4                  5.0               3.6                1.4               0.2   \n",
              " ..                 ...               ...                ...               ...   \n",
              " 145                6.7               3.0                5.2               2.3   \n",
              " 146                6.3               2.5                5.0               1.9   \n",
              " 147                6.5               3.0                5.2               2.0   \n",
              " 148                6.2               3.4                5.4               2.3   \n",
              " 149                5.9               3.0                5.1               1.8   \n",
              " \n",
              "      target  \n",
              " 0         0  \n",
              " 1         0  \n",
              " 2         0  \n",
              " 3         0  \n",
              " 4         0  \n",
              " ..      ...  \n",
              " 145       2  \n",
              " 146       2  \n",
              " 147       2  \n",
              " 148       2  \n",
              " 149       2  \n",
              " \n",
              " [150 rows x 5 columns],\n",
              " 'target_names': array(['setosa', 'versicolor', 'virginica'], dtype='<U10'),\n",
              " 'DESCR': '.. _iris_dataset:\\n\\nIris plants dataset\\n--------------------\\n\\n**Data Set Characteristics:**\\n\\n:Number of Instances: 150 (50 in each of three classes)\\n:Number of Attributes: 4 numeric, predictive attributes and the class\\n:Attribute Information:\\n    - sepal length in cm\\n    - sepal width in cm\\n    - petal length in cm\\n    - petal width in cm\\n    - class:\\n            - Iris-Setosa\\n            - Iris-Versicolour\\n            - Iris-Virginica\\n\\n:Summary Statistics:\\n\\n============== ==== ==== ======= ===== ====================\\n                Min  Max   Mean    SD   Class Correlation\\n============== ==== ==== ======= ===== ====================\\nsepal length:   4.3  7.9   5.84   0.83    0.7826\\nsepal width:    2.0  4.4   3.05   0.43   -0.4194\\npetal length:   1.0  6.9   3.76   1.76    0.9490  (high!)\\npetal width:    0.1  2.5   1.20   0.76    0.9565  (high!)\\n============== ==== ==== ======= ===== ====================\\n\\n:Missing Attribute Values: None\\n:Class Distribution: 33.3% for each of 3 classes.\\n:Creator: R.A. Fisher\\n:Donor: Michael Marshall (MARSHALL%PLU@io.arc.nasa.gov)\\n:Date: July, 1988\\n\\nThe famous Iris database, first used by Sir R.A. Fisher. The dataset is taken\\nfrom Fisher\\'s paper. Note that it\\'s the same as in R, but not as in the UCI\\nMachine Learning Repository, which has two wrong data points.\\n\\nThis is perhaps the best known database to be found in the\\npattern recognition literature.  Fisher\\'s paper is a classic in the field and\\nis referenced frequently to this day.  (See Duda & Hart, for example.)  The\\ndata set contains 3 classes of 50 instances each, where each class refers to a\\ntype of iris plant.  One class is linearly separable from the other 2; the\\nlatter are NOT linearly separable from each other.\\n\\n.. dropdown:: References\\n\\n  - Fisher, R.A. \"The use of multiple measurements in taxonomic problems\"\\n    Annual Eugenics, 7, Part II, 179-188 (1936); also in \"Contributions to\\n    Mathematical Statistics\" (John Wiley, NY, 1950).\\n  - Duda, R.O., & Hart, P.E. (1973) Pattern Classification and Scene Analysis.\\n    (Q327.D83) John Wiley & Sons.  ISBN 0-471-22361-1.  See page 218.\\n  - Dasarathy, B.V. (1980) \"Nosing Around the Neighborhood: A New System\\n    Structure and Classification Rule for Recognition in Partially Exposed\\n    Environments\".  IEEE Transactions on Pattern Analysis and Machine\\n    Intelligence, Vol. PAMI-2, No. 1, 67-71.\\n  - Gates, G.W. (1972) \"The Reduced Nearest Neighbor Rule\".  IEEE Transactions\\n    on Information Theory, May 1972, 431-433.\\n  - See also: 1988 MLC Proceedings, 54-64.  Cheeseman et al\"s AUTOCLASS II\\n    conceptual clustering system finds 3 classes in the data.\\n  - Many, many more ...\\n',\n",
              " 'feature_names': ['sepal length (cm)',\n",
              "  'sepal width (cm)',\n",
              "  'petal length (cm)',\n",
              "  'petal width (cm)'],\n",
              " 'filename': 'iris.csv',\n",
              " 'data_module': 'sklearn.datasets.data'}"
            ]
          },
          "metadata": {},
          "execution_count": 3
        }
      ]
    },
    {
      "cell_type": "code",
      "source": [
        "X=iris.data\n",
        "y=iris.target"
      ],
      "metadata": {
        "id": "aoiPQY3uuqdB"
      },
      "execution_count": 4,
      "outputs": []
    },
    {
      "cell_type": "code",
      "source": [
        "y=y.to_numpy().reshape(-1, 1)"
      ],
      "metadata": {
        "id": "lss4iGuqttzn"
      },
      "execution_count": 5,
      "outputs": []
    },
    {
      "cell_type": "code",
      "source": [
        "y.shape"
      ],
      "metadata": {
        "colab": {
          "base_uri": "https://localhost:8080/"
        },
        "id": "ZWYGhc0AxPkI",
        "outputId": "b0540c87-ceb3-4157-e81c-054fc045d9a7"
      },
      "execution_count": 6,
      "outputs": [
        {
          "output_type": "execute_result",
          "data": {
            "text/plain": [
              "(150, 1)"
            ]
          },
          "metadata": {},
          "execution_count": 6
        }
      ]
    },
    {
      "cell_type": "code",
      "source": [
        "encoder=OneHotEncoder(sparse_output=False)\n",
        "y_encoded=encoder.fit_transform(y)"
      ],
      "metadata": {
        "id": "0hk5I7FDxRX9"
      },
      "execution_count": 7,
      "outputs": []
    },
    {
      "cell_type": "code",
      "source": [
        "X_train, X_test, y_train, y_test = train_test_split(X, y_encoded, test_size=0.2, random_state=45, stratify=y,shuffle=True)\n",
        "\n"
      ],
      "metadata": {
        "id": "wKViIMwKxc_r"
      },
      "execution_count": 24,
      "outputs": []
    },
    {
      "cell_type": "code",
      "source": [
        "scaler=StandardScaler()\n",
        "X_train = scaler.fit_transform(X_train)\n",
        "X_test = scaler.transform(X_test)"
      ],
      "metadata": {
        "id": "0SvGvaDext9c"
      },
      "execution_count": 25,
      "outputs": []
    },
    {
      "cell_type": "markdown",
      "source": [
        "### Task 2: Define and Train the MLP Model\n",
        "- Construct a Multi-Layer Perceptron (MLP) model with the following architecture:\n",
        "- Input layer: 4 neurons (for 4 features).\n",
        "- Hidden layer: 16 neurons, ReLU activation.\n",
        "- Output layer: 3 neurons (for each class), softmax activation.\n",
        "- Train using:\n",
        "- Loss function: Categorical cross-entropy.\n",
        "- Optimizer: Adam.\n",
        "- Learning rate: 0.001.\n",
        "- Batch size: 32.\n",
        "- Epochs: 50."
      ],
      "metadata": {
        "id": "dnfEJyMf0NaT"
      }
    },
    {
      "cell_type": "code",
      "source": [
        "import tensorflow as tf\n",
        "from tensorflow import keras\n",
        "from tensorflow.keras.models import Sequential\n",
        "from tensorflow.keras.layers import Dense\n",
        "from tensorflow.keras.optimizers import Adam"
      ],
      "metadata": {
        "id": "Z-YtZvlGzAA-"
      },
      "execution_count": 26,
      "outputs": []
    },
    {
      "cell_type": "code",
      "source": [
        "model=Sequential([Dense(16,activation=\"relu\",input_shape=(4,)),\n",
        "                  Dense(3,activation='softmax')])\n",
        "\n",
        "model.compile(optimizer=Adam(learning_rate=0.001),loss='categorical_crossentropy',metrics=['accuracy'])\n",
        "\n",
        "model_history=model.fit(X_train, y_train, epochs=50, batch_size=32, validation_split=0.125)\n",
        "\n"
      ],
      "metadata": {
        "colab": {
          "base_uri": "https://localhost:8080/"
        },
        "id": "ZaWU6DKJmrIc",
        "outputId": "62a4222f-6791-4ffc-f9bd-3be4c572d173"
      },
      "execution_count": 27,
      "outputs": [
        {
          "output_type": "stream",
          "name": "stdout",
          "text": [
            "Epoch 1/50\n"
          ]
        },
        {
          "output_type": "stream",
          "name": "stderr",
          "text": [
            "/usr/local/lib/python3.11/dist-packages/keras/src/layers/core/dense.py:87: UserWarning: Do not pass an `input_shape`/`input_dim` argument to a layer. When using Sequential models, prefer using an `Input(shape)` object as the first layer in the model instead.\n",
            "  super().__init__(activity_regularizer=activity_regularizer, **kwargs)\n"
          ]
        },
        {
          "output_type": "stream",
          "name": "stdout",
          "text": [
            "\u001b[1m4/4\u001b[0m \u001b[32m━━━━━━━━━━━━━━━━━━━━\u001b[0m\u001b[37m\u001b[0m \u001b[1m2s\u001b[0m 98ms/step - accuracy: 0.5071 - loss: 0.9125 - val_accuracy: 0.6000 - val_loss: 1.0632\n",
            "Epoch 2/50\n",
            "\u001b[1m4/4\u001b[0m \u001b[32m━━━━━━━━━━━━━━━━━━━━\u001b[0m\u001b[37m\u001b[0m \u001b[1m1s\u001b[0m 94ms/step - accuracy: 0.5581 - loss: 0.8526 - val_accuracy: 0.6000 - val_loss: 1.0387\n",
            "Epoch 3/50\n",
            "\u001b[1m4/4\u001b[0m \u001b[32m━━━━━━━━━━━━━━━━━━━━\u001b[0m\u001b[37m\u001b[0m \u001b[1m0s\u001b[0m 50ms/step - accuracy: 0.5404 - loss: 0.8909 - val_accuracy: 0.6000 - val_loss: 1.0141\n",
            "Epoch 4/50\n",
            "\u001b[1m4/4\u001b[0m \u001b[32m━━━━━━━━━━━━━━━━━━━━\u001b[0m\u001b[37m\u001b[0m \u001b[1m0s\u001b[0m 40ms/step - accuracy: 0.6035 - loss: 0.8786 - val_accuracy: 0.6000 - val_loss: 0.9903\n",
            "Epoch 5/50\n",
            "\u001b[1m4/4\u001b[0m \u001b[32m━━━━━━━━━━━━━━━━━━━━\u001b[0m\u001b[37m\u001b[0m \u001b[1m0s\u001b[0m 50ms/step - accuracy: 0.6264 - loss: 0.8429 - val_accuracy: 0.6000 - val_loss: 0.9674\n",
            "Epoch 6/50\n",
            "\u001b[1m4/4\u001b[0m \u001b[32m━━━━━━━━━━━━━━━━━━━━\u001b[0m\u001b[37m\u001b[0m \u001b[1m0s\u001b[0m 45ms/step - accuracy: 0.6799 - loss: 0.7974 - val_accuracy: 0.6000 - val_loss: 0.9458\n",
            "Epoch 7/50\n",
            "\u001b[1m4/4\u001b[0m \u001b[32m━━━━━━━━━━━━━━━━━━━━\u001b[0m\u001b[37m\u001b[0m \u001b[1m0s\u001b[0m 43ms/step - accuracy: 0.6840 - loss: 0.8243 - val_accuracy: 0.6000 - val_loss: 0.9241\n",
            "Epoch 8/50\n",
            "\u001b[1m4/4\u001b[0m \u001b[32m━━━━━━━━━━━━━━━━━━━━\u001b[0m\u001b[37m\u001b[0m \u001b[1m0s\u001b[0m 47ms/step - accuracy: 0.6528 - loss: 0.8001 - val_accuracy: 0.6000 - val_loss: 0.9034\n",
            "Epoch 9/50\n",
            "\u001b[1m4/4\u001b[0m \u001b[32m━━━━━━━━━━━━━━━━━━━━\u001b[0m\u001b[37m\u001b[0m \u001b[1m0s\u001b[0m 46ms/step - accuracy: 0.6528 - loss: 0.8139 - val_accuracy: 0.6000 - val_loss: 0.8834\n",
            "Epoch 10/50\n",
            "\u001b[1m4/4\u001b[0m \u001b[32m━━━━━━━━━━━━━━━━━━━━\u001b[0m\u001b[37m\u001b[0m \u001b[1m0s\u001b[0m 47ms/step - accuracy: 0.6621 - loss: 0.8040 - val_accuracy: 0.6000 - val_loss: 0.8652\n",
            "Epoch 11/50\n",
            "\u001b[1m4/4\u001b[0m \u001b[32m━━━━━━━━━━━━━━━━━━━━\u001b[0m\u001b[37m\u001b[0m \u001b[1m0s\u001b[0m 48ms/step - accuracy: 0.6674 - loss: 0.7367 - val_accuracy: 0.6000 - val_loss: 0.8477\n",
            "Epoch 12/50\n",
            "\u001b[1m4/4\u001b[0m \u001b[32m━━━━━━━━━━━━━━━━━━━━\u001b[0m\u001b[37m\u001b[0m \u001b[1m0s\u001b[0m 55ms/step - accuracy: 0.6632 - loss: 0.7384 - val_accuracy: 0.6000 - val_loss: 0.8304\n",
            "Epoch 13/50\n",
            "\u001b[1m4/4\u001b[0m \u001b[32m━━━━━━━━━━━━━━━━━━━━\u001b[0m\u001b[37m\u001b[0m \u001b[1m0s\u001b[0m 47ms/step - accuracy: 0.7132 - loss: 0.7016 - val_accuracy: 0.6000 - val_loss: 0.8144\n",
            "Epoch 14/50\n",
            "\u001b[1m4/4\u001b[0m \u001b[32m━━━━━━━━━━━━━━━━━━━━\u001b[0m\u001b[37m\u001b[0m \u001b[1m0s\u001b[0m 49ms/step - accuracy: 0.6424 - loss: 0.7575 - val_accuracy: 0.6000 - val_loss: 0.7984\n",
            "Epoch 15/50\n",
            "\u001b[1m4/4\u001b[0m \u001b[32m━━━━━━━━━━━━━━━━━━━━\u001b[0m\u001b[37m\u001b[0m \u001b[1m0s\u001b[0m 32ms/step - accuracy: 0.6757 - loss: 0.6932 - val_accuracy: 0.6000 - val_loss: 0.7835\n",
            "Epoch 16/50\n",
            "\u001b[1m4/4\u001b[0m \u001b[32m━━━━━━━━━━━━━━━━━━━━\u001b[0m\u001b[37m\u001b[0m \u001b[1m0s\u001b[0m 39ms/step - accuracy: 0.7028 - loss: 0.6677 - val_accuracy: 0.6000 - val_loss: 0.7692\n",
            "Epoch 17/50\n",
            "\u001b[1m4/4\u001b[0m \u001b[32m━━━━━━━━━━━━━━━━━━━━\u001b[0m\u001b[37m\u001b[0m \u001b[1m0s\u001b[0m 53ms/step - accuracy: 0.7101 - loss: 0.6478 - val_accuracy: 0.6000 - val_loss: 0.7555\n",
            "Epoch 18/50\n",
            "\u001b[1m4/4\u001b[0m \u001b[32m━━━━━━━━━━━━━━━━━━━━\u001b[0m\u001b[37m\u001b[0m \u001b[1m0s\u001b[0m 49ms/step - accuracy: 0.6476 - loss: 0.6975 - val_accuracy: 0.6000 - val_loss: 0.7419\n",
            "Epoch 19/50\n",
            "\u001b[1m4/4\u001b[0m \u001b[32m━━━━━━━━━━━━━━━━━━━━\u001b[0m\u001b[37m\u001b[0m \u001b[1m0s\u001b[0m 39ms/step - accuracy: 0.6611 - loss: 0.6819 - val_accuracy: 0.6000 - val_loss: 0.7288\n",
            "Epoch 20/50\n",
            "\u001b[1m4/4\u001b[0m \u001b[32m━━━━━━━━━━━━━━━━━━━━\u001b[0m\u001b[37m\u001b[0m \u001b[1m0s\u001b[0m 58ms/step - accuracy: 0.6382 - loss: 0.6621 - val_accuracy: 0.6000 - val_loss: 0.7162\n",
            "Epoch 21/50\n",
            "\u001b[1m4/4\u001b[0m \u001b[32m━━━━━━━━━━━━━━━━━━━━\u001b[0m\u001b[37m\u001b[0m \u001b[1m0s\u001b[0m 48ms/step - accuracy: 0.6924 - loss: 0.5981 - val_accuracy: 0.6000 - val_loss: 0.7037\n",
            "Epoch 22/50\n",
            "\u001b[1m4/4\u001b[0m \u001b[32m━━━━━━━━━━━━━━━━━━━━\u001b[0m\u001b[37m\u001b[0m \u001b[1m0s\u001b[0m 51ms/step - accuracy: 0.7267 - loss: 0.5790 - val_accuracy: 0.6000 - val_loss: 0.6910\n",
            "Epoch 23/50\n",
            "\u001b[1m4/4\u001b[0m \u001b[32m━━━━━━━━━━━━━━━━━━━━\u001b[0m\u001b[37m\u001b[0m \u001b[1m0s\u001b[0m 48ms/step - accuracy: 0.6601 - loss: 0.6230 - val_accuracy: 0.6000 - val_loss: 0.6774\n",
            "Epoch 24/50\n",
            "\u001b[1m4/4\u001b[0m \u001b[32m━━━━━━━━━━━━━━━━━━━━\u001b[0m\u001b[37m\u001b[0m \u001b[1m0s\u001b[0m 108ms/step - accuracy: 0.6674 - loss: 0.5888 - val_accuracy: 0.6000 - val_loss: 0.6648\n",
            "Epoch 25/50\n",
            "\u001b[1m4/4\u001b[0m \u001b[32m━━━━━━━━━━━━━━━━━━━━\u001b[0m\u001b[37m\u001b[0m \u001b[1m0s\u001b[0m 66ms/step - accuracy: 0.6955 - loss: 0.5738 - val_accuracy: 0.6000 - val_loss: 0.6523\n",
            "Epoch 26/50\n",
            "\u001b[1m4/4\u001b[0m \u001b[32m━━━━━━━━━━━━━━━━━━━━\u001b[0m\u001b[37m\u001b[0m \u001b[1m0s\u001b[0m 48ms/step - accuracy: 0.6726 - loss: 0.5906 - val_accuracy: 0.6000 - val_loss: 0.6404\n",
            "Epoch 27/50\n",
            "\u001b[1m4/4\u001b[0m \u001b[32m━━━━━━━━━━━━━━━━━━━━\u001b[0m\u001b[37m\u001b[0m \u001b[1m0s\u001b[0m 45ms/step - accuracy: 0.6517 - loss: 0.6003 - val_accuracy: 0.6000 - val_loss: 0.6294\n",
            "Epoch 28/50\n",
            "\u001b[1m4/4\u001b[0m \u001b[32m━━━━━━━━━━━━━━━━━━━━\u001b[0m\u001b[37m\u001b[0m \u001b[1m0s\u001b[0m 37ms/step - accuracy: 0.6809 - loss: 0.5626 - val_accuracy: 0.6000 - val_loss: 0.6191\n",
            "Epoch 29/50\n",
            "\u001b[1m4/4\u001b[0m \u001b[32m━━━━━━━━━━━━━━━━━━━━\u001b[0m\u001b[37m\u001b[0m \u001b[1m0s\u001b[0m 38ms/step - accuracy: 0.6788 - loss: 0.5502 - val_accuracy: 0.6000 - val_loss: 0.6086\n",
            "Epoch 30/50\n",
            "\u001b[1m4/4\u001b[0m \u001b[32m━━━━━━━━━━━━━━━━━━━━\u001b[0m\u001b[37m\u001b[0m \u001b[1m0s\u001b[0m 37ms/step - accuracy: 0.6955 - loss: 0.5252 - val_accuracy: 0.6000 - val_loss: 0.5980\n",
            "Epoch 31/50\n",
            "\u001b[1m4/4\u001b[0m \u001b[32m━━━━━━━━━━━━━━━━━━━━\u001b[0m\u001b[37m\u001b[0m \u001b[1m0s\u001b[0m 39ms/step - accuracy: 0.7003 - loss: 0.5280 - val_accuracy: 0.6000 - val_loss: 0.5872\n",
            "Epoch 32/50\n",
            "\u001b[1m4/4\u001b[0m \u001b[32m━━━━━━━━━━━━━━━━━━━━\u001b[0m\u001b[37m\u001b[0m \u001b[1m0s\u001b[0m 28ms/step - accuracy: 0.7152 - loss: 0.5222 - val_accuracy: 0.6000 - val_loss: 0.5769\n",
            "Epoch 33/50\n",
            "\u001b[1m4/4\u001b[0m \u001b[32m━━━━━━━━━━━━━━━━━━━━\u001b[0m\u001b[37m\u001b[0m \u001b[1m0s\u001b[0m 24ms/step - accuracy: 0.6913 - loss: 0.5498 - val_accuracy: 0.6000 - val_loss: 0.5668\n",
            "Epoch 34/50\n",
            "\u001b[1m4/4\u001b[0m \u001b[32m━━━━━━━━━━━━━━━━━━━━\u001b[0m\u001b[37m\u001b[0m \u001b[1m0s\u001b[0m 23ms/step - accuracy: 0.7152 - loss: 0.5132 - val_accuracy: 0.6000 - val_loss: 0.5574\n",
            "Epoch 35/50\n",
            "\u001b[1m4/4\u001b[0m \u001b[32m━━━━━━━━━━━━━━━━━━━━\u001b[0m\u001b[37m\u001b[0m \u001b[1m0s\u001b[0m 24ms/step - accuracy: 0.7152 - loss: 0.5261 - val_accuracy: 0.6000 - val_loss: 0.5476\n",
            "Epoch 36/50\n",
            "\u001b[1m4/4\u001b[0m \u001b[32m━━━━━━━━━━━━━━━━━━━━\u001b[0m\u001b[37m\u001b[0m \u001b[1m0s\u001b[0m 27ms/step - accuracy: 0.6923 - loss: 0.5159 - val_accuracy: 0.6000 - val_loss: 0.5375\n",
            "Epoch 37/50\n",
            "\u001b[1m4/4\u001b[0m \u001b[32m━━━━━━━━━━━━━━━━━━━━\u001b[0m\u001b[37m\u001b[0m \u001b[1m0s\u001b[0m 39ms/step - accuracy: 0.7156 - loss: 0.5073 - val_accuracy: 0.6000 - val_loss: 0.5275\n",
            "Epoch 38/50\n",
            "\u001b[1m4/4\u001b[0m \u001b[32m━━━━━━━━━━━━━━━━━━━━\u001b[0m\u001b[37m\u001b[0m \u001b[1m0s\u001b[0m 41ms/step - accuracy: 0.7555 - loss: 0.4659 - val_accuracy: 0.6000 - val_loss: 0.5180\n",
            "Epoch 39/50\n",
            "\u001b[1m4/4\u001b[0m \u001b[32m━━━━━━━━━━━━━━━━━━━━\u001b[0m\u001b[37m\u001b[0m \u001b[1m0s\u001b[0m 44ms/step - accuracy: 0.7374 - loss: 0.5105 - val_accuracy: 0.6000 - val_loss: 0.5081\n",
            "Epoch 40/50\n",
            "\u001b[1m4/4\u001b[0m \u001b[32m━━━━━━━━━━━━━━━━━━━━\u001b[0m\u001b[37m\u001b[0m \u001b[1m0s\u001b[0m 28ms/step - accuracy: 0.7836 - loss: 0.4653 - val_accuracy: 0.6000 - val_loss: 0.4983\n",
            "Epoch 41/50\n",
            "\u001b[1m4/4\u001b[0m \u001b[32m━━━━━━━━━━━━━━━━━━━━\u001b[0m\u001b[37m\u001b[0m \u001b[1m0s\u001b[0m 27ms/step - accuracy: 0.7607 - loss: 0.4914 - val_accuracy: 0.6667 - val_loss: 0.4886\n",
            "Epoch 42/50\n",
            "\u001b[1m4/4\u001b[0m \u001b[32m━━━━━━━━━━━━━━━━━━━━\u001b[0m\u001b[37m\u001b[0m \u001b[1m0s\u001b[0m 24ms/step - accuracy: 0.7957 - loss: 0.4418 - val_accuracy: 0.6667 - val_loss: 0.4799\n",
            "Epoch 43/50\n",
            "\u001b[1m4/4\u001b[0m \u001b[32m━━━━━━━━━━━━━━━━━━━━\u001b[0m\u001b[37m\u001b[0m \u001b[1m0s\u001b[0m 23ms/step - accuracy: 0.7843 - loss: 0.4436 - val_accuracy: 0.7333 - val_loss: 0.4709\n",
            "Epoch 44/50\n",
            "\u001b[1m4/4\u001b[0m \u001b[32m━━━━━━━━━━━━━━━━━━━━\u001b[0m\u001b[37m\u001b[0m \u001b[1m0s\u001b[0m 24ms/step - accuracy: 0.8058 - loss: 0.4496 - val_accuracy: 0.8000 - val_loss: 0.4619\n",
            "Epoch 45/50\n",
            "\u001b[1m4/4\u001b[0m \u001b[32m━━━━━━━━━━━━━━━━━━━━\u001b[0m\u001b[37m\u001b[0m \u001b[1m0s\u001b[0m 38ms/step - accuracy: 0.8016 - loss: 0.4530 - val_accuracy: 0.8667 - val_loss: 0.4533\n",
            "Epoch 46/50\n",
            "\u001b[1m4/4\u001b[0m \u001b[32m━━━━━━━━━━━━━━━━━━━━\u001b[0m\u001b[37m\u001b[0m \u001b[1m0s\u001b[0m 25ms/step - accuracy: 0.8169 - loss: 0.4193 - val_accuracy: 0.8667 - val_loss: 0.4447\n",
            "Epoch 47/50\n",
            "\u001b[1m4/4\u001b[0m \u001b[32m━━━━━━━━━━━━━━━━━━━━\u001b[0m\u001b[37m\u001b[0m \u001b[1m0s\u001b[0m 24ms/step - accuracy: 0.8221 - loss: 0.4284 - val_accuracy: 0.8667 - val_loss: 0.4355\n",
            "Epoch 48/50\n",
            "\u001b[1m4/4\u001b[0m \u001b[32m━━━━━━━━━━━━━━━━━━━━\u001b[0m\u001b[37m\u001b[0m \u001b[1m0s\u001b[0m 25ms/step - accuracy: 0.8245 - loss: 0.4354 - val_accuracy: 0.8667 - val_loss: 0.4270\n",
            "Epoch 49/50\n",
            "\u001b[1m4/4\u001b[0m \u001b[32m━━━━━━━━━━━━━━━━━━━━\u001b[0m\u001b[37m\u001b[0m \u001b[1m0s\u001b[0m 24ms/step - accuracy: 0.8012 - loss: 0.4653 - val_accuracy: 0.8667 - val_loss: 0.4185\n",
            "Epoch 50/50\n",
            "\u001b[1m4/4\u001b[0m \u001b[32m━━━━━━━━━━━━━━━━━━━━\u001b[0m\u001b[37m\u001b[0m \u001b[1m0s\u001b[0m 24ms/step - accuracy: 0.8314 - loss: 0.4184 - val_accuracy: 0.8667 - val_loss: 0.4097\n"
          ]
        }
      ]
    },
    {
      "cell_type": "code",
      "source": [
        "test_loss,test_accuracy=model.evaluate(X_test,y_test)\n",
        "print(f\"The test accuracy is {test_accuracy:.4f}\" )\n",
        "\n",
        "array_training_losses=np.array(model_history.history['loss'])\n",
        "array_validation_losses=np.array(model_history.history['val_loss'])\n",
        "\n",
        "print(\"Training Losses:\\n\", array_training_losses)\n",
        "print(\"Validation Losses:\\n\", array_validation_losses)\n",
        "\n",
        "# Plot training & validation loss\n",
        "plt.figure(figsize=(8, 5))\n",
        "plt.plot(array_training_losses, label='Training Loss')\n",
        "plt.plot(array_validation_losses, label='Validation Loss')\n",
        "plt.xlabel('Epochs')\n",
        "plt.ylabel('Loss')\n",
        "plt.title('Training & Validation Loss')\n",
        "plt.legend()\n",
        "plt.show()"
      ],
      "metadata": {
        "colab": {
          "base_uri": "https://localhost:8080/",
          "height": 837
        },
        "id": "8qTLt8fNwN3a",
        "outputId": "172b23f0-2290-4d0f-9bb7-bbdd0efbd974"
      },
      "execution_count": 28,
      "outputs": [
        {
          "output_type": "stream",
          "name": "stdout",
          "text": [
            "\u001b[1m1/1\u001b[0m \u001b[32m━━━━━━━━━━━━━━━━━━━━\u001b[0m\u001b[37m\u001b[0m \u001b[1m0s\u001b[0m 46ms/step - accuracy: 0.8000 - loss: 0.4576\n",
            "The test accuracy is 0.8000\n",
            "Training Losses:\n",
            " [0.92719913 0.90674037 0.88722497 0.86893237 0.85089403 0.8337642\n",
            " 0.81731224 0.80096489 0.78616625 0.77122223 0.75655109 0.74304408\n",
            " 0.72962821 0.71606356 0.70295346 0.69053453 0.67801064 0.66647804\n",
            " 0.65516716 0.643484   0.63269138 0.62251872 0.61190486 0.60149723\n",
            " 0.59177917 0.58221638 0.57308716 0.56398541 0.55550992 0.54763418\n",
            " 0.53964031 0.53223079 0.52477574 0.51758355 0.51058871 0.50365496\n",
            " 0.49688312 0.48994958 0.48364219 0.47679982 0.47047013 0.46356753\n",
            " 0.45765585 0.45180961 0.44563311 0.43945274 0.43376189 0.42790127\n",
            " 0.42258036 0.41667932]\n",
            "Validation Losses:\n",
            " [1.06319034 1.03868628 1.01407492 0.99030524 0.96737421 0.9457972\n",
            " 0.92411727 0.90338951 0.88336408 0.86520922 0.84772974 0.83042055\n",
            " 0.81442624 0.79840845 0.78346813 0.76917773 0.7554605  0.74186969\n",
            " 0.7288205  0.71618026 0.70366168 0.69095206 0.67744911 0.66475904\n",
            " 0.65233624 0.64042372 0.62937725 0.61911136 0.60860878 0.59795415\n",
            " 0.58716506 0.57691389 0.56680787 0.55737919 0.54759383 0.53750759\n",
            " 0.52748841 0.51799875 0.50806308 0.49831992 0.48864853 0.47993484\n",
            " 0.47091073 0.46192232 0.45325202 0.44469395 0.43552715 0.42695752\n",
            " 0.41851547 0.40967768]\n"
          ]
        },
        {
          "output_type": "display_data",
          "data": {
            "text/plain": [
              "<Figure size 800x500 with 1 Axes>"
            ],
            "image/png": "[encoded data removed]"
          },
          "metadata": {}
        }
      ]
    },
    {
      "cell_type": "code",
      "source": [
        "import seaborn as sns\n",
        "from sklearn.metrics import accuracy_score, precision_score, recall_score, f1_score, confusion_matrix\n"
      ],
      "metadata": {
        "id": "-ipl-Gm1qGAO"
      },
      "execution_count": 20,
      "outputs": []
    },
    {
      "cell_type": "code",
      "source": [
        "y_prob=model.predict(X_test)\n",
        "\n",
        "y_pred_label=model.predict(X_test)\n",
        "\n",
        "y_pred=np.argmax(y_pred_label,axis=1)\n",
        "\n",
        "y_true=np.argmax(y_test,axis=1)\n",
        "\n",
        "accuracy=accuracy_score(y_true,y_pred)\n",
        "precision=precision_score(y_true,y_pred,average=\"weighted\")\n",
        "recall=recall_score(y_true,y_pred,average=\"weighted\")\n",
        "f1=f1_score(y_true,y_pred,average=\"weighted\")\n",
        "confusion=confusion_matrix(y_true,y_pred)\n",
        "\n",
        "print(f\"Accuracy: {accuracy:.4f}\")\n",
        "print(f\"Precision: {precision:.4f}\")\n",
        "print(f\"Recall: {recall:.4f}\")\n",
        "print(f\"F1-score: {f1:.4f}\")\n",
        "\n",
        "plt.figure(figsize=(6, 5))\n",
        "sns.heatmap(confusion, annot=True, cmap=\"Blues\", fmt=\"d\",\n",
        "            xticklabels=iris.target_names, yticklabels=iris.target_names)\n",
        "plt.xlabel(\"Predicted Label\")\n",
        "plt.ylabel(\"True Label\")\n",
        "plt.title(\"Confusion Matrix\")\n",
        "plt.show()"
      ],
      "metadata": {
        "colab": {
          "base_uri": "https://localhost:8080/",
          "height": 591
        },
        "id": "VI7JeyuxuiVt",
        "outputId": "cf60b287-1d0f-4559-fb8b-a478c8bbd411"
      },
      "execution_count": 30,
      "outputs": [
        {
          "output_type": "stream",
          "name": "stdout",
          "text": [
            "\u001b[1m1/1\u001b[0m \u001b[32m━━━━━━━━━━━━━━━━━━━━\u001b[0m\u001b[37m\u001b[0m \u001b[1m0s\u001b[0m 83ms/step\n",
            "\u001b[1m1/1\u001b[0m \u001b[32m━━━━━━━━━━━━━━━━━━━━\u001b[0m\u001b[37m\u001b[0m \u001b[1m0s\u001b[0m 99ms/step\n",
            "Accuracy: 0.8000\n",
            "Precision: 0.8586\n",
            "Recall: 0.8000\n",
            "F1-score: 0.7746\n"
          ]
        },
        {
          "output_type": "display_data",
          "data": {
            "text/plain": [
              "<Figure size 600x500 with 2 Axes>"
            ],
            "image/png": "[encoded data removed]"
          },
          "metadata": {}
        }
      ]
    }
  ]
}