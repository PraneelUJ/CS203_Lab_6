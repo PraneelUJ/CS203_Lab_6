{
  "nbformat": 4,
  "nbformat_minor": 0,
  "metadata": {
    "colab": {
      "provenance": [],
      "authorship_tag": "ABX9TyPJM9P6i4r7FH0nkthRv0qG",
      "include_colab_link": true
    },
    "kernelspec": {
      "name": "python3",
      "display_name": "Python 3"
    },
    "language_info": {
      "name": "python"
    }
  },
  "cells": [
    {
      "cell_type": "markdown",
      "metadata": {
        "id": "view-in-github",
        "colab_type": "text"
      },
      "source": [
        "<a href=\"https://colab.research.google.com/github/PraneelUJ/CS203_Lab_6/blob/main/CS203_Lab_6_task1.ipynb\" target=\"_parent\"><img src=\"https://colab.research.google.com/assets/colab-badge.svg\" alt=\"Open In Colab\"/></a>"
      ]
    },
    {
      "cell_type": "markdown",
      "source": [
        "### Task1: Implement a Multi-Layer Perceptron (MLP) Using the Iris Dataset (05%)\n",
        "- Load the Iris dataset using sklearn.datasets.load_iris.\n",
        "- Extract features and labels, ensuring labels are one-hot encoded.\n",
        "- Split the dataset into training (80%) and testing (20%) sets.\n",
        "- Normalize feature values to [0,1] using standard scaling.\n"
      ],
      "metadata": {
        "id": "KDqKNMCXzOAx"
      }
    },
    {
      "cell_type": "code",
      "execution_count": 23,
      "metadata": {
        "id": "ovi2lDSZrdvg"
      },
      "outputs": [],
      "source": [
        "from sklearn.datasets import load_iris\n",
        "from sklearn.model_selection import train_test_split\n",
        "from sklearn.preprocessing import OneHotEncoder, StandardScaler\n",
        "import numpy"
      ]
    },
    {
      "cell_type": "code",
      "source": [
        "iris = load_iris(as_frame=True)"
      ],
      "metadata": {
        "id": "RElmknYBtoBR"
      },
      "execution_count": 2,
      "outputs": []
    },
    {
      "cell_type": "code",
      "source": [
        "iris"
      ],
      "metadata": {
        "collapsed": true,
        "colab": {
          "base_uri": "https://localhost:8080/"
        },
        "id": "YDrgufw-uv4g",
        "outputId": "71e6bd29-f898-4528-aaae-9389c01149b7"
      },
      "execution_count": 6,
      "outputs": [
        {
          "output_type": "execute_result",
          "data": {
            "text/plain": [
              "{'data':      sepal length (cm)  sepal width (cm)  petal length (cm)  petal width (cm)\n",
              " 0                  5.1               3.5                1.4               0.2\n",
              " 1                  4.9               3.0                1.4               0.2\n",
              " 2                  4.7               3.2                1.3               0.2\n",
              " 3                  4.6               3.1                1.5               0.2\n",
              " 4                  5.0               3.6                1.4               0.2\n",
              " ..                 ...               ...                ...               ...\n",
              " 145                6.7               3.0                5.2               2.3\n",
              " 146                6.3               2.5                5.0               1.9\n",
              " 147                6.5               3.0                5.2               2.0\n",
              " 148                6.2               3.4                5.4               2.3\n",
              " 149                5.9               3.0                5.1               1.8\n",
              " \n",
              " [150 rows x 4 columns],\n",
              " 'target': 0      0\n",
              " 1      0\n",
              " 2      0\n",
              " 3      0\n",
              " 4      0\n",
              "       ..\n",
              " 145    2\n",
              " 146    2\n",
              " 147    2\n",
              " 148    2\n",
              " 149    2\n",
              " Name: target, Length: 150, dtype: int64,\n",
              " 'frame':      sepal length (cm)  sepal width (cm)  petal length (cm)  petal width (cm)  \\\n",
              " 0                  5.1               3.5                1.4               0.2   \n",
              " 1                  4.9               3.0                1.4               0.2   \n",
              " 2                  4.7               3.2                1.3               0.2   \n",
              " 3                  4.6               3.1                1.5               0.2   \n",
              " 4                  5.0               3.6                1.4               0.2   \n",
              " ..                 ...               ...                ...               ...   \n",
              " 145                6.7               3.0                5.2               2.3   \n",
              " 146                6.3               2.5                5.0               1.9   \n",
              " 147                6.5               3.0                5.2               2.0   \n",
              " 148                6.2               3.4                5.4               2.3   \n",
              " 149                5.9               3.0                5.1               1.8   \n",
              " \n",
              "      target  \n",
              " 0         0  \n",
              " 1         0  \n",
              " 2         0  \n",
              " 3         0  \n",
              " 4         0  \n",
              " ..      ...  \n",
              " 145       2  \n",
              " 146       2  \n",
              " 147       2  \n",
              " 148       2  \n",
              " 149       2  \n",
              " \n",
              " [150 rows x 5 columns],\n",
              " 'target_names': array(['setosa', 'versicolor', 'virginica'], dtype='<U10'),\n",
              " 'DESCR': '.. _iris_dataset:\\n\\nIris plants dataset\\n--------------------\\n\\n**Data Set Characteristics:**\\n\\n:Number of Instances: 150 (50 in each of three classes)\\n:Number of Attributes: 4 numeric, predictive attributes and the class\\n:Attribute Information:\\n    - sepal length in cm\\n    - sepal width in cm\\n    - petal length in cm\\n    - petal width in cm\\n    - class:\\n            - Iris-Setosa\\n            - Iris-Versicolour\\n            - Iris-Virginica\\n\\n:Summary Statistics:\\n\\n============== ==== ==== ======= ===== ====================\\n                Min  Max   Mean    SD   Class Correlation\\n============== ==== ==== ======= ===== ====================\\nsepal length:   4.3  7.9   5.84   0.83    0.7826\\nsepal width:    2.0  4.4   3.05   0.43   -0.4194\\npetal length:   1.0  6.9   3.76   1.76    0.9490  (high!)\\npetal width:    0.1  2.5   1.20   0.76    0.9565  (high!)\\n============== ==== ==== ======= ===== ====================\\n\\n:Missing Attribute Values: None\\n:Class Distribution: 33.3% for each of 3 classes.\\n:Creator: R.A. Fisher\\n:Donor: Michael Marshall (MARSHALL%PLU@io.arc.nasa.gov)\\n:Date: July, 1988\\n\\nThe famous Iris database, first used by Sir R.A. Fisher. The dataset is taken\\nfrom Fisher\\'s paper. Note that it\\'s the same as in R, but not as in the UCI\\nMachine Learning Repository, which has two wrong data points.\\n\\nThis is perhaps the best known database to be found in the\\npattern recognition literature.  Fisher\\'s paper is a classic in the field and\\nis referenced frequently to this day.  (See Duda & Hart, for example.)  The\\ndata set contains 3 classes of 50 instances each, where each class refers to a\\ntype of iris plant.  One class is linearly separable from the other 2; the\\nlatter are NOT linearly separable from each other.\\n\\n.. dropdown:: References\\n\\n  - Fisher, R.A. \"The use of multiple measurements in taxonomic problems\"\\n    Annual Eugenics, 7, Part II, 179-188 (1936); also in \"Contributions to\\n    Mathematical Statistics\" (John Wiley, NY, 1950).\\n  - Duda, R.O., & Hart, P.E. (1973) Pattern Classification and Scene Analysis.\\n    (Q327.D83) John Wiley & Sons.  ISBN 0-471-22361-1.  See page 218.\\n  - Dasarathy, B.V. (1980) \"Nosing Around the Neighborhood: A New System\\n    Structure and Classification Rule for Recognition in Partially Exposed\\n    Environments\".  IEEE Transactions on Pattern Analysis and Machine\\n    Intelligence, Vol. PAMI-2, No. 1, 67-71.\\n  - Gates, G.W. (1972) \"The Reduced Nearest Neighbor Rule\".  IEEE Transactions\\n    on Information Theory, May 1972, 431-433.\\n  - See also: 1988 MLC Proceedings, 54-64.  Cheeseman et al\"s AUTOCLASS II\\n    conceptual clustering system finds 3 classes in the data.\\n  - Many, many more ...\\n',\n",
              " 'feature_names': ['sepal length (cm)',\n",
              "  'sepal width (cm)',\n",
              "  'petal length (cm)',\n",
              "  'petal width (cm)'],\n",
              " 'filename': 'iris.csv',\n",
              " 'data_module': 'sklearn.datasets.data'}"
            ]
          },
          "metadata": {},
          "execution_count": 6
        }
      ]
    },
    {
      "cell_type": "code",
      "source": [
        "X=iris.data\n",
        "y=iris.target"
      ],
      "metadata": {
        "id": "aoiPQY3uuqdB"
      },
      "execution_count": 14,
      "outputs": []
    },
    {
      "cell_type": "code",
      "source": [
        "y=y.to_numpy().reshape(-1, 1)"
      ],
      "metadata": {
        "id": "lss4iGuqttzn"
      },
      "execution_count": 19,
      "outputs": []
    },
    {
      "cell_type": "code",
      "source": [
        "y.shape"
      ],
      "metadata": {
        "colab": {
          "base_uri": "https://localhost:8080/"
        },
        "id": "ZWYGhc0AxPkI",
        "outputId": "91e86a74-1c3a-4958-d645-e1c2462aec31"
      },
      "execution_count": 20,
      "outputs": [
        {
          "output_type": "execute_result",
          "data": {
            "text/plain": [
              "(150, 1)"
            ]
          },
          "metadata": {},
          "execution_count": 20
        }
      ]
    },
    {
      "cell_type": "code",
      "source": [
        "encoder=OneHotEncoder(sparse_output=False)\n",
        "y_encoded=encoder.fit_transform(y)"
      ],
      "metadata": {
        "id": "0hk5I7FDxRX9"
      },
      "execution_count": 21,
      "outputs": []
    },
    {
      "cell_type": "code",
      "source": [
        "X_train, X_test, y_train, y_test = train_test_split(X, y_encoded, test_size=0.2, random_state=45, stratify=y)"
      ],
      "metadata": {
        "id": "wKViIMwKxc_r"
      },
      "execution_count": 33,
      "outputs": []
    },
    {
      "cell_type": "code",
      "source": [
        "scaler=StandardScaler()\n",
        "X_train=X_train_scale.transform(X_train)\n",
        "X_test=X_train_scale.transform(X_test)"
      ],
      "metadata": {
        "id": "0SvGvaDext9c"
      },
      "execution_count": 34,
      "outputs": []
    },
    {
      "cell_type": "markdown",
      "source": [
        "### Task 2: Define and Train the MLP Model\n",
        "- Construct a Multi-Layer Perceptron (MLP) model with the following architecture:\n",
        "- Input layer: 4 neurons (for 4 features).\n",
        "- Hidden layer: 16 neurons, ReLU activation.\n",
        "- Output layer: 3 neurons (for each class), softmax activation.\n",
        "- Train using:\n",
        "- Loss function: Categorical cross-entropy.\n",
        "- Optimizer: Adam.\n",
        "- Learning rate: 0.001.\n",
        "- Batch size: 32.\n",
        "- Epochs: 50."
      ],
      "metadata": {
        "id": "dnfEJyMf0NaT"
      }
    },
    {
      "cell_type": "code",
      "source": [
        "import tensorflow as tf\n",
        "from tensorflow import keras\n",
        "from tensorflow.keras.models import Sequential\n",
        "from tensorflow.keras.layers import Dense\n",
        "from tensorflow.keras.optimizers import Adam"
      ],
      "metadata": {
        "id": "Z-YtZvlGzAA-"
      },
      "execution_count": 32,
      "outputs": []
    }
  ]
}